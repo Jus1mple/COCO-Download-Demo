{
 "cells": [
  {
   "cell_type": "markdown",
   "metadata": {},
   "source": [
    "> This code refers the official repository (https://github.com/cocodataset/cocoapi/blob/master/PythonAPI/pycocoDemo.ipynb)"
   ]
  },
  {
   "cell_type": "code",
   "execution_count": null,
   "metadata": {},
   "outputs": [],
   "source": [
    "from pycocotools.coco import COCO\n",
    "import requests\n",
    "from tqdm.notebook import tqdm as tqdm\n",
    "import os\n",
    "import sys\n",
    "import numpy as np\n",
    "import skimage.io as io\n",
    "import matplotlib.pyplot as plt\n",
    "import pylab\n",
    "\n",
    "pylab.rcParams[\"figure.figsize\"] = (8.0, 10.0)"
   ]
  },
  {
   "cell_type": "code",
   "execution_count": null,
   "metadata": {},
   "outputs": [],
   "source": [
    "dataDir = \"/hub/huggingface/datasets/COCO\"\n",
    "dataType = \"train2017\"\n",
    "train_dir = \"{}/{}\".format(dataDir, dataType)\n",
    "annFile = \"{}/annotations/instances_{}.json\".format(dataDir, dataType)\n",
    "capFile = \"{}/annotations/captions_{}.json\".format(dataDir, dataType)"
   ]
  },
  {
   "cell_type": "code",
   "execution_count": null,
   "metadata": {},
   "outputs": [],
   "source": [
    "# initialize COCO api for instance annotations\n",
    "coco = COCO(annFile)\n",
    "coco_cap = COCO(capFile)"
   ]
  },
  {
   "cell_type": "code",
   "execution_count": null,
   "metadata": {},
   "outputs": [],
   "source": [
    "img_list = os.listdir(train_dir)"
   ]
  },
  {
   "cell_type": "code",
   "execution_count": null,
   "metadata": {},
   "outputs": [],
   "source": [
    "I = io.imread(\"{}/{}\".format(train_dir, img_list[0]))\n",
    "plt.axis(\"off\")\n",
    "plt.imshow(I)\n",
    "plt.show()"
   ]
  },
  {
   "cell_type": "code",
   "execution_count": null,
   "metadata": {},
   "outputs": [],
   "source": [
    "test_img_id = int(img_list[0].split(\".jpg\")[0])\n",
    "\n",
    "annIds = coco_cap.getAnnIds(imgIds=test_img_id)\n",
    "anns = coco_cap.loadAnns(annIds)\n",
    "coco_cap.showAnns(anns)"
   ]
  }
 ],
 "metadata": {
  "kernelspec": {
   "display_name": "pytorch-gpu",
   "language": "python",
   "name": "python3"
  },
  "language_info": {
   "name": "python",
   "version": "3.8.13"
  }
 },
 "nbformat": 4,
 "nbformat_minor": 2
}
